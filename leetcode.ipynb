{
 "cells": [
  {
   "cell_type": "markdown",
   "metadata": {},
   "source": [
    "# November LeetCoding Challenge\n",
    "### Smallest Integer Divisible by K\n",
    "Given a positive integer K, you need to find the length of the smallest positive integer N such that N is divisible by K, and N only contains the digit 1.\n",
    "\n",
    "Return the length of N. If there is no such N, return -1.\n",
    "\n",
    "Note: N may not fit in a 64-bit signed integer.\n",
    "\n",
    " \n",
    "\n",
    "Example 1:\n",
    "\n",
    "Input: K = 1\n",
    "Output: 1\n",
    "Explanation: The smallest answer is N = 1, which has length 1.\n",
    "Example 2:\n",
    "\n",
    "Input: K = 2\n",
    "Output: -1\n",
    "Explanation: There is no such positive integer N divisible by 2.\n",
    "Example 3:\n",
    "\n",
    "Input: K = 3\n",
    "Output: 3\n",
    "Explanation: The smallest answer is N = 111, which has length 3.\n",
    " \n",
    "\n",
    "Constraints:\n",
    "\n",
    "1 <= K <= 105"
   ]
  },
  {
   "cell_type": "code",
   "execution_count": 1,
   "metadata": {
    "ExecuteTime": {
     "end_time": "2020-11-25T15:41:20.496409Z",
     "start_time": "2020-11-25T15:41:20.485348Z"
    }
   },
   "outputs": [
    {
     "name": "stdout",
     "output_type": "stream",
     "text": [
      "1\n",
      "11\n",
      "111\n",
      "1111\n",
      "11111\n",
      "111111\n",
      "1111111\n",
      "11111111\n",
      "111111111\n"
     ]
    }
   ],
   "source": [
    "for i in range (1, 10):\n",
    "    string_val = \"\".join('1' for i in range(i))\n",
    "    print(string_val)"
   ]
  },
  {
   "cell_type": "code",
   "execution_count": 2,
   "metadata": {
    "ExecuteTime": {
     "end_time": "2020-11-25T15:41:20.517296Z",
     "start_time": "2020-11-25T15:41:20.504181Z"
    }
   },
   "outputs": [],
   "source": [
    "def smallestRepunitDivByK(K: int) -> int:\n",
    "    answer = []\n",
    "    for i in range (1, K+1):\n",
    "        string_val = \"\".join('1' for i in range(i))\n",
    "\n",
    "        if int(string_val) % K == 0:\n",
    "            answer.append(len(string_val))\n",
    "\n",
    "    if len(answer) > 0:\n",
    "        return answer[0]\n",
    "    else:\n",
    "        return -1\n",
    "    "
   ]
  },
  {
   "cell_type": "code",
   "execution_count": 3,
   "metadata": {
    "ExecuteTime": {
     "end_time": "2020-11-25T15:41:20.555622Z",
     "start_time": "2020-11-25T15:41:20.531041Z"
    }
   },
   "outputs": [
    {
     "name": "stdout",
     "output_type": "stream",
     "text": [
      "1, 1\n",
      "2, -1\n",
      "3, 3\n",
      "4, -1\n",
      "5, -1\n",
      "6, -1\n",
      "7, 6\n",
      "8, -1\n",
      "9, 9\n",
      "10, -1\n",
      "11, 2\n",
      "12, -1\n",
      "13, 6\n",
      "14, -1\n",
      "15, -1\n",
      "16, -1\n",
      "17, 16\n",
      "18, -1\n",
      "19, 18\n"
     ]
    }
   ],
   "source": [
    "for i in range (1, 20):\n",
    "    print(str(i)+', ' +str(smallestRepunitDivByK(i)))"
   ]
  },
  {
   "cell_type": "markdown",
   "metadata": {},
   "source": [
    "#### Too Slow 50/70"
   ]
  },
  {
   "cell_type": "code",
   "execution_count": 4,
   "metadata": {
    "ExecuteTime": {
     "end_time": "2020-11-25T15:41:20.584209Z",
     "start_time": "2020-11-25T15:41:20.561174Z"
    }
   },
   "outputs": [
    {
     "name": "stdout",
     "output_type": "stream",
     "text": [
      "1\n",
      "11\n",
      "111\n",
      "1111\n",
      "11111\n",
      "111111\n",
      "1111111\n",
      "11111111\n",
      "111111111\n"
     ]
    }
   ],
   "source": [
    "for i in range (1, 10):\n",
    "    string_val = '1'*i\n",
    "    print(string_val)"
   ]
  },
  {
   "cell_type": "code",
   "execution_count": 5,
   "metadata": {
    "ExecuteTime": {
     "end_time": "2020-11-25T15:41:20.609496Z",
     "start_time": "2020-11-25T15:41:20.601388Z"
    }
   },
   "outputs": [],
   "source": [
    "def smallestRepunitDivByK(K: int) -> int:\n",
    "    answer = []\n",
    "    for i in range (1, K+1):\n",
    "        string_val = '1'*i\n",
    "\n",
    "        if int(string_val) % K == 0:\n",
    "            answer.append(len(string_val))\n",
    "\n",
    "    if len(answer) > 0:\n",
    "        return answer[0]\n",
    "    else:\n",
    "        return -1\n",
    "    "
   ]
  },
  {
   "cell_type": "code",
   "execution_count": 6,
   "metadata": {
    "ExecuteTime": {
     "end_time": "2020-11-25T15:41:20.632745Z",
     "start_time": "2020-11-25T15:41:20.615415Z"
    }
   },
   "outputs": [
    {
     "name": "stdout",
     "output_type": "stream",
     "text": [
      "1, 1\n",
      "2, -1\n",
      "3, 3\n",
      "4, -1\n",
      "5, -1\n",
      "6, -1\n",
      "7, 6\n",
      "8, -1\n",
      "9, 9\n",
      "10, -1\n",
      "11, 2\n",
      "12, -1\n",
      "13, 6\n",
      "14, -1\n",
      "15, -1\n",
      "16, -1\n",
      "17, 16\n",
      "18, -1\n",
      "19, 18\n"
     ]
    }
   ],
   "source": [
    "for i in range (1, 20):\n",
    "    print(str(i)+', ' +str(smallestRepunitDivByK(i)))"
   ]
  },
  {
   "cell_type": "markdown",
   "metadata": {
    "ExecuteTime": {
     "end_time": "2020-11-25T15:02:22.424029Z",
     "start_time": "2020-11-25T15:02:22.345534Z"
    }
   },
   "source": [
    "#### Still too Slow 60/70"
   ]
  },
  {
   "cell_type": "code",
   "execution_count": 129,
   "metadata": {
    "ExecuteTime": {
     "end_time": "2020-11-25T17:15:33.153291Z",
     "start_time": "2020-11-25T17:15:33.145759Z"
    }
   },
   "outputs": [],
   "source": [
    "def smallestRepunitDivByK(K: int) -> int:\n",
    "    answer = []\n",
    "    K2 = 1\n",
    "    \n",
    "    while  K>= K2 and len(answer) == 0:\n",
    "        \n",
    "        string_val = '1'*K2\n",
    "        if int(string_val) % K == 0:\n",
    "            answer.append(len(string_val))\n",
    "            break\n",
    "        K2 += 1\n",
    "\n",
    "    if len(answer) > 0:\n",
    "            return answer[0]\n",
    "    else:\n",
    "        return -1\n",
    "\n",
    "     \n",
    "    "
   ]
  },
  {
   "cell_type": "code",
   "execution_count": 12,
   "metadata": {
    "ExecuteTime": {
     "end_time": "2020-11-25T15:42:49.098985Z",
     "start_time": "2020-11-25T15:42:49.091085Z"
    }
   },
   "outputs": [
    {
     "data": {
      "text/plain": [
       "6"
      ]
     },
     "execution_count": 12,
     "metadata": {},
     "output_type": "execute_result"
    }
   ],
   "source": [
    "smallestRepunitDivByK(7)"
   ]
  },
  {
   "cell_type": "code",
   "execution_count": 13,
   "metadata": {
    "ExecuteTime": {
     "end_time": "2020-11-25T15:42:50.013628Z",
     "start_time": "2020-11-25T15:42:50.006178Z"
    }
   },
   "outputs": [
    {
     "name": "stdout",
     "output_type": "stream",
     "text": [
      "1, 1\n",
      "2, -1\n",
      "3, 3\n",
      "4, -1\n",
      "5, -1\n",
      "6, -1\n",
      "7, 6\n",
      "8, -1\n",
      "9, 9\n",
      "10, -1\n",
      "11, 2\n",
      "12, -1\n",
      "13, 6\n",
      "14, -1\n",
      "15, -1\n",
      "16, -1\n",
      "17, 16\n",
      "18, -1\n",
      "19, 18\n"
     ]
    }
   ],
   "source": [
    "for i in range (1, 20):\n",
    "    print(str(i)+', ' +str(smallestRepunitDivByK(i)))"
   ]
  },
  {
   "cell_type": "markdown",
   "metadata": {
    "ExecuteTime": {
     "end_time": "2020-11-25T15:44:12.995908Z",
     "start_time": "2020-11-25T15:44:12.992392Z"
    }
   },
   "source": [
    "#### Still too Slow; 61 / 70 test cases passed."
   ]
  },
  {
   "cell_type": "code",
   "execution_count": 31,
   "metadata": {
    "ExecuteTime": {
     "end_time": "2020-11-25T15:59:17.742149Z",
     "start_time": "2020-11-25T15:59:17.733441Z"
    }
   },
   "outputs": [],
   "source": [
    "def smallestRepunitDivByK(K: int) -> int:\n",
    "    answer = []\n",
    "    K2 = 1\n",
    "    \n",
    "    while  K>= K2 and len(answer) == 0:\n",
    "        \n",
    "        string_val = '1'*K2\n",
    "        if int(string_val) % K == 0:\n",
    "            answer.append(len(string_val))\n",
    "            break\n",
    "        K2 += 1\n",
    "\n",
    "    if len(answer) > 0:\n",
    "            return answer[0]\n",
    "    else:\n",
    "        return -1"
   ]
  },
  {
   "cell_type": "code",
   "execution_count": 126,
   "metadata": {
    "ExecuteTime": {
     "end_time": "2020-11-25T17:12:27.300596Z",
     "start_time": "2020-11-25T17:12:27.289780Z"
    }
   },
   "outputs": [
    {
     "name": "stdout",
     "output_type": "stream",
     "text": [
      "1, 1\n",
      "2, -1\n",
      "3, 3\n",
      "4, -1\n",
      "5, -1\n",
      "6, -1\n",
      "7, 6\n",
      "8, -1\n",
      "9, 9\n",
      "10, -1\n",
      "11, 2\n",
      "12, -1\n",
      "13, 6\n",
      "14, -1\n",
      "15, -1\n",
      "16, -1\n",
      "17, 16\n",
      "18, -1\n",
      "19, 18\n",
      "20, -1\n",
      "21, 6\n",
      "22, -1\n",
      "23, 22\n",
      "24, -1\n",
      "25, -1\n",
      "26, -1\n",
      "27, 27\n",
      "28, -1\n",
      "29, 28\n",
      "30, -1\n",
      "31, 15\n",
      "32, -1\n",
      "33, 6\n",
      "34, -1\n",
      "35, -1\n",
      "36, -1\n",
      "37, 3\n",
      "38, -1\n",
      "39, 6\n",
      "40, -1\n",
      "41, 5\n",
      "42, -1\n",
      "43, 21\n",
      "44, -1\n",
      "45, -1\n",
      "46, -1\n",
      "47, 46\n",
      "48, -1\n",
      "49, 42\n",
      "50, -1\n",
      "51, 48\n",
      "52, -1\n",
      "53, 13\n",
      "54, -1\n",
      "55, -1\n",
      "56, -1\n",
      "57, 18\n",
      "58, -1\n",
      "59, 58\n",
      "60, -1\n",
      "61, 60\n",
      "62, -1\n",
      "63, 18\n",
      "64, -1\n",
      "65, -1\n",
      "66, -1\n",
      "67, 33\n",
      "68, -1\n",
      "69, 66\n",
      "70, -1\n",
      "71, 35\n",
      "72, -1\n",
      "73, 8\n",
      "74, -1\n",
      "75, -1\n",
      "76, -1\n",
      "77, 6\n",
      "78, -1\n",
      "79, 13\n",
      "80, -1\n",
      "81, 81\n",
      "82, -1\n",
      "83, 41\n",
      "84, -1\n",
      "85, -1\n",
      "86, -1\n",
      "87, 84\n",
      "88, -1\n",
      "89, 44\n",
      "90, -1\n",
      "91, 6\n",
      "92, -1\n",
      "93, 15\n",
      "94, -1\n",
      "95, -1\n",
      "96, -1\n",
      "97, 96\n",
      "98, -1\n",
      "99, 18\n",
      "100, -1\n",
      "101, 4\n",
      "102, -1\n",
      "103, 34\n",
      "104, -1\n",
      "105, -1\n"
     ]
    }
   ],
   "source": [
    "for i in range (1, 106):\n",
    "    print(str(i)+', ' +str(smallestRepunitDivByK(i)))"
   ]
  },
  {
   "cell_type": "code",
   "execution_count": 41,
   "metadata": {
    "ExecuteTime": {
     "end_time": "2020-11-25T16:02:20.528538Z",
     "start_time": "2020-11-25T16:02:20.521706Z"
    }
   },
   "outputs": [
    {
     "name": "stdout",
     "output_type": "stream",
     "text": [
      "1\n",
      "4\n",
      "6\n",
      "5\n",
      "2\n",
      "0\n",
      "1\n"
     ]
    }
   ],
   "source": [
    "for i in range(1, 8):\n",
    "    print(int('1'*i)%7)\n"
   ]
  },
  {
   "cell_type": "markdown",
   "metadata": {},
   "source": [
    "11111 = 1111 * 10 + 1 We only need to store remainders modulo K.\n",
    "If we never get a remainder of 0, why would that happen, and how would we know that?"
   ]
  },
  {
   "cell_type": "code",
   "execution_count": 45,
   "metadata": {
    "ExecuteTime": {
     "end_time": "2020-11-25T16:04:46.200542Z",
     "start_time": "2020-11-25T16:04:46.196771Z"
    }
   },
   "outputs": [],
   "source": [
    "K = 10"
   ]
  },
  {
   "cell_type": "code",
   "execution_count": 46,
   "metadata": {
    "ExecuteTime": {
     "end_time": "2020-11-25T16:04:46.906549Z",
     "start_time": "2020-11-25T16:04:46.900483Z"
    }
   },
   "outputs": [],
   "source": [
    "lisst = []\n",
    "for i in range(1,K):\n",
    "    lisst.append(int('1'*i))\n",
    "    "
   ]
  },
  {
   "cell_type": "markdown",
   "metadata": {
    "ExecuteTime": {
     "end_time": "2020-11-25T16:13:27.610120Z",
     "start_time": "2020-11-25T16:13:27.584476Z"
    }
   },
   "source": [
    "for i in range(1,10):\n",
    "    for j in range(1,10):\n",
    "        print(str(i)+\"x\"+str(j))\n",
    "        print(j*i)"
   ]
  },
  {
   "cell_type": "markdown",
   "metadata": {
    "ExecuteTime": {
     "end_time": "2020-11-25T16:17:24.053457Z",
     "start_time": "2020-11-25T16:17:24.045577Z"
    }
   },
   "source": [
    "for K in range(1,11):\n",
    "    print(K%10)"
   ]
  },
  {
   "cell_type": "code",
   "execution_count": 109,
   "metadata": {
    "ExecuteTime": {
     "end_time": "2020-11-25T17:04:32.204584Z",
     "start_time": "2020-11-25T17:04:32.105531Z"
    }
   },
   "outputs": [
    {
     "ename": "SyntaxError",
     "evalue": "invalid syntax (<ipython-input-109-e12ccd83fde0>, line 2)",
     "output_type": "error",
     "traceback": [
      "\u001b[0;36m  File \u001b[0;32m\"<ipython-input-109-e12ccd83fde0>\"\u001b[0;36m, line \u001b[0;32m2\u001b[0m\n\u001b[0;31m    for j in range(1,105) j not in i:\u001b[0m\n\u001b[0m                          ^\u001b[0m\n\u001b[0;31mSyntaxError\u001b[0m\u001b[0;31m:\u001b[0m invalid syntax\n"
     ]
    }
   ],
   "source": [
    "for i in range(1,105):\n",
    "    for j in range(1,105):\n",
    "        if (j*i)%1000 == 111:\n",
    "            print(str(i)+\"x\"+str(j))\n",
    "            print(j*i)"
   ]
  },
  {
   "cell_type": "code",
   "execution_count": 125,
   "metadata": {
    "ExecuteTime": {
     "end_time": "2020-11-25T17:12:20.322532Z",
     "start_time": "2020-11-25T17:12:20.314763Z"
    }
   },
   "outputs": [],
   "source": [
    "def smallestRepunitDivByK(K: int) -> int:\n",
    "    \n",
    "    if K not in [1,3,7,9,11,13,17,19,21,23,27,29,31,33,37,39,41,43,47,49,51,53,57,59,61,63,67,69,71,73,77,79,81,83,87,89,91,93,97,99,101,103]:\n",
    "        return -1\n",
    "    \n",
    "    else:\n",
    "        for i in range (1, K+1):\n",
    "            string_val = '1'*i\n",
    "\n",
    "            if int(string_val) % K == 0:\n",
    "                \n",
    "                break\n",
    "        return len(string_val)"
   ]
  },
  {
   "cell_type": "code",
   "execution_count": 131,
   "metadata": {
    "ExecuteTime": {
     "end_time": "2020-11-25T17:32:35.877216Z",
     "start_time": "2020-11-25T17:20:15.194638Z"
    }
   },
   "outputs": [
    {
     "ename": "KeyboardInterrupt",
     "evalue": "",
     "output_type": "error",
     "traceback": [
      "\u001b[0;31m---------------------------------------------------------------------------\u001b[0m",
      "\u001b[0;31mKeyboardInterrupt\u001b[0m                         Traceback (most recent call last)",
      "\u001b[0;32m<ipython-input-131-dbe80898c19a>\u001b[0m in \u001b[0;36m<module>\u001b[0;34m\u001b[0m\n\u001b[1;32m      1\u001b[0m \u001b[0manswer\u001b[0m\u001b[0;34m=\u001b[0m \u001b[0;34m[\u001b[0m\u001b[0;34m]\u001b[0m\u001b[0;34m\u001b[0m\u001b[0;34m\u001b[0m\u001b[0m\n\u001b[1;32m      2\u001b[0m \u001b[0;32mfor\u001b[0m \u001b[0mi\u001b[0m \u001b[0;32min\u001b[0m \u001b[0mrange\u001b[0m \u001b[0;34m(\u001b[0m\u001b[0;36m1\u001b[0m\u001b[0;34m,\u001b[0m \u001b[0;36m10\u001b[0m\u001b[0;34m**\u001b[0m\u001b[0;36m5\u001b[0m\u001b[0;34m)\u001b[0m\u001b[0;34m:\u001b[0m\u001b[0;34m\u001b[0m\u001b[0;34m\u001b[0m\u001b[0m\n\u001b[0;32m----> 3\u001b[0;31m     \u001b[0;32mif\u001b[0m \u001b[0msmallestRepunitDivByK\u001b[0m\u001b[0;34m(\u001b[0m\u001b[0mi\u001b[0m\u001b[0;34m)\u001b[0m \u001b[0;34m!=\u001b[0m \u001b[0;34m-\u001b[0m\u001b[0;36m1\u001b[0m\u001b[0;34m:\u001b[0m\u001b[0;34m\u001b[0m\u001b[0;34m\u001b[0m\u001b[0m\n\u001b[0m\u001b[1;32m      4\u001b[0m         \u001b[0manswer\u001b[0m\u001b[0;34m.\u001b[0m\u001b[0mappend\u001b[0m\u001b[0;34m(\u001b[0m\u001b[0mi\u001b[0m\u001b[0;34m)\u001b[0m\u001b[0;34m\u001b[0m\u001b[0;34m\u001b[0m\u001b[0m\n",
      "\u001b[0;32m<ipython-input-129-b4b4096eedad>\u001b[0m in \u001b[0;36msmallestRepunitDivByK\u001b[0;34m(K)\u001b[0m\n\u001b[1;32m      6\u001b[0m \u001b[0;34m\u001b[0m\u001b[0m\n\u001b[1;32m      7\u001b[0m         \u001b[0mstring_val\u001b[0m \u001b[0;34m=\u001b[0m \u001b[0;34m'1'\u001b[0m\u001b[0;34m*\u001b[0m\u001b[0mK2\u001b[0m\u001b[0;34m\u001b[0m\u001b[0;34m\u001b[0m\u001b[0m\n\u001b[0;32m----> 8\u001b[0;31m         \u001b[0;32mif\u001b[0m \u001b[0mint\u001b[0m\u001b[0;34m(\u001b[0m\u001b[0mstring_val\u001b[0m\u001b[0;34m)\u001b[0m \u001b[0;34m%\u001b[0m \u001b[0mK\u001b[0m \u001b[0;34m==\u001b[0m \u001b[0;36m0\u001b[0m\u001b[0;34m:\u001b[0m\u001b[0;34m\u001b[0m\u001b[0;34m\u001b[0m\u001b[0m\n\u001b[0m\u001b[1;32m      9\u001b[0m             \u001b[0manswer\u001b[0m\u001b[0;34m.\u001b[0m\u001b[0mappend\u001b[0m\u001b[0;34m(\u001b[0m\u001b[0mlen\u001b[0m\u001b[0;34m(\u001b[0m\u001b[0mstring_val\u001b[0m\u001b[0;34m)\u001b[0m\u001b[0;34m)\u001b[0m\u001b[0;34m\u001b[0m\u001b[0;34m\u001b[0m\u001b[0m\n\u001b[1;32m     10\u001b[0m             \u001b[0;32mbreak\u001b[0m\u001b[0;34m\u001b[0m\u001b[0;34m\u001b[0m\u001b[0m\n",
      "\u001b[0;31mKeyboardInterrupt\u001b[0m: "
     ]
    }
   ],
   "source": [
    "answer= []\n",
    "for i in range (1, 10**5):\n",
    "    if smallestRepunitDivByK(i) != -1:\n",
    "        answer.append(i)"
   ]
  },
  {
   "cell_type": "code",
   "execution_count": null,
   "metadata": {
    "ExecuteTime": {
     "end_time": "2020-11-25T17:20:12.134195Z",
     "start_time": "2020-11-25T17:15:42.560Z"
    }
   },
   "outputs": [],
   "source": [
    "answer"
   ]
  },
  {
   "cell_type": "code",
   "execution_count": null,
   "metadata": {},
   "outputs": [],
   "source": [
    "class Solution:\n",
    "    def uniqueMorseRepresentations(self, words: List[str]) -> int:\n",
    "\n",
    "        morse =    [\".-\",\"-...\",\"-.-.\",\"-..\",\".\",\"..-.\",\"--.\",\"....\",\"..\",\".---\",\"-.-\",\".-..\",\"--\",\"-.\",\"---\",\".--.\",\"--.-\",\".-.\",\"...\",\"-\",\"..-\",\"...-\",\".--\",\"-..-\",\"-.--\",\"--..\"]\n",
    "        letter_mapping = dict(zip(ascii_lowercase, morse))\n",
    "        answer = []\n",
    "        for word in words:\n",
    "            for letter in word:\n",
    "                letter.apply.letter_mapping"
   ]
  },
  {
   "cell_type": "code",
   "execution_count": 171,
   "metadata": {
    "ExecuteTime": {
     "end_time": "2020-11-25T17:43:17.652656Z",
     "start_time": "2020-11-25T17:43:17.647160Z"
    }
   },
   "outputs": [],
   "source": [
    "def letter_indexes(text):\n",
    "    letter_mapping = dict(zip(ascii_lowercase, morse))\n",
    "    indexes = [\n",
    "      letter_mapping[letter] for letter in text.lower() \n",
    "      if letter in letter_mapping\n",
    "    ]\n",
    "\n",
    "    return ''.join(str(index) for index in indexes)"
   ]
  },
  {
   "cell_type": "code",
   "execution_count": 145,
   "metadata": {
    "ExecuteTime": {
     "end_time": "2020-11-25T17:36:45.839781Z",
     "start_time": "2020-11-25T17:36:45.821269Z"
    }
   },
   "outputs": [
    {
     "ename": "AttributeError",
     "evalue": "'list' object has no attribute 'lower'",
     "output_type": "error",
     "traceback": [
      "\u001b[0;31m---------------------------------------------------------------------------\u001b[0m",
      "\u001b[0;31mAttributeError\u001b[0m                            Traceback (most recent call last)",
      "\u001b[0;32m<ipython-input-145-4cc095a395e0>\u001b[0m in \u001b[0;36m<module>\u001b[0;34m\u001b[0m\n\u001b[1;32m      2\u001b[0m \u001b[0mmorse\u001b[0m \u001b[0;34m=\u001b[0m    \u001b[0;34m[\u001b[0m\u001b[0;34m\".-\"\u001b[0m\u001b[0;34m,\u001b[0m\u001b[0;34m\"-...\"\u001b[0m\u001b[0;34m,\u001b[0m\u001b[0;34m\"-.-.\"\u001b[0m\u001b[0;34m,\u001b[0m\u001b[0;34m\"-..\"\u001b[0m\u001b[0;34m,\u001b[0m\u001b[0;34m\".\"\u001b[0m\u001b[0;34m,\u001b[0m\u001b[0;34m\"..-.\"\u001b[0m\u001b[0;34m,\u001b[0m\u001b[0;34m\"--.\"\u001b[0m\u001b[0;34m,\u001b[0m\u001b[0;34m\"....\"\u001b[0m\u001b[0;34m,\u001b[0m\u001b[0;34m\"..\"\u001b[0m\u001b[0;34m,\u001b[0m\u001b[0;34m\".---\"\u001b[0m\u001b[0;34m,\u001b[0m\u001b[0;34m\"-.-\"\u001b[0m\u001b[0;34m,\u001b[0m\u001b[0;34m\".-..\"\u001b[0m\u001b[0;34m,\u001b[0m\u001b[0;34m\"--\"\u001b[0m\u001b[0;34m,\u001b[0m\u001b[0;34m\"-.\"\u001b[0m\u001b[0;34m,\u001b[0m\u001b[0;34m\"---\"\u001b[0m\u001b[0;34m,\u001b[0m\u001b[0;34m\".--.\"\u001b[0m\u001b[0;34m,\u001b[0m\u001b[0;34m\"--.-\"\u001b[0m\u001b[0;34m,\u001b[0m\u001b[0;34m\".-.\"\u001b[0m\u001b[0;34m,\u001b[0m\u001b[0;34m\"...\"\u001b[0m\u001b[0;34m,\u001b[0m\u001b[0;34m\"-\"\u001b[0m\u001b[0;34m,\u001b[0m\u001b[0;34m\"..-\"\u001b[0m\u001b[0;34m,\u001b[0m\u001b[0;34m\"...-\"\u001b[0m\u001b[0;34m,\u001b[0m\u001b[0;34m\".--\"\u001b[0m\u001b[0;34m,\u001b[0m\u001b[0;34m\"-..-\"\u001b[0m\u001b[0;34m,\u001b[0m\u001b[0;34m\"-.--\"\u001b[0m\u001b[0;34m,\u001b[0m\u001b[0;34m\"--..\"\u001b[0m\u001b[0;34m]\u001b[0m\u001b[0;34m\u001b[0m\u001b[0;34m\u001b[0m\u001b[0m\n\u001b[1;32m      3\u001b[0m \u001b[0manswer\u001b[0m \u001b[0;34m=\u001b[0m \u001b[0;34m[\u001b[0m\u001b[0;34m]\u001b[0m\u001b[0;34m\u001b[0m\u001b[0;34m\u001b[0m\u001b[0m\n\u001b[0;32m----> 4\u001b[0;31m \u001b[0;34m-\u001b[0m\u001b[0;34m-\u001b[0m\u001b[0mletter_indexes\u001b[0m\u001b[0;34m(\u001b[0m\u001b[0;34m[\u001b[0m\u001b[0;34m\"gin\"\u001b[0m\u001b[0;34m,\u001b[0m \u001b[0;34m\"zen\"\u001b[0m\u001b[0;34m,\u001b[0m \u001b[0;34m\"gig\"\u001b[0m\u001b[0;34m,\u001b[0m \u001b[0;34m\"msg\"\u001b[0m\u001b[0;34m]\u001b[0m\u001b[0;34m)\u001b[0m\u001b[0;34m\u001b[0m\u001b[0;34m\u001b[0m\u001b[0m\n\u001b[0m",
      "\u001b[0;32m<ipython-input-138-d22456ad1cbb>\u001b[0m in \u001b[0;36mletter_indexes\u001b[0;34m(text)\u001b[0m\n\u001b[1;32m      2\u001b[0m     \u001b[0mletter_mapping\u001b[0m \u001b[0;34m=\u001b[0m \u001b[0mdict\u001b[0m\u001b[0;34m(\u001b[0m\u001b[0mzip\u001b[0m\u001b[0;34m(\u001b[0m\u001b[0mascii_lowercase\u001b[0m\u001b[0;34m,\u001b[0m \u001b[0mmorse\u001b[0m\u001b[0;34m)\u001b[0m\u001b[0;34m)\u001b[0m\u001b[0;34m\u001b[0m\u001b[0;34m\u001b[0m\u001b[0m\n\u001b[1;32m      3\u001b[0m     indexes = [\n\u001b[0;32m----> 4\u001b[0;31m       \u001b[0mletter_mapping\u001b[0m\u001b[0;34m[\u001b[0m\u001b[0mletter\u001b[0m\u001b[0;34m]\u001b[0m \u001b[0;32mfor\u001b[0m \u001b[0mletter\u001b[0m \u001b[0;32min\u001b[0m \u001b[0mtext\u001b[0m\u001b[0;34m.\u001b[0m\u001b[0mlower\u001b[0m\u001b[0;34m(\u001b[0m\u001b[0;34m)\u001b[0m\u001b[0;34m\u001b[0m\u001b[0;34m\u001b[0m\u001b[0m\n\u001b[0m\u001b[1;32m      5\u001b[0m       \u001b[0;32mif\u001b[0m \u001b[0mletter\u001b[0m \u001b[0;32min\u001b[0m \u001b[0mletter_mapping\u001b[0m\u001b[0;34m\u001b[0m\u001b[0;34m\u001b[0m\u001b[0m\n\u001b[1;32m      6\u001b[0m     ]\n",
      "\u001b[0;31mAttributeError\u001b[0m: 'list' object has no attribute 'lower'"
     ]
    }
   ],
   "source": [
    "from string import ascii_lowercase\n",
    "morse =    [\".-\",\"-...\",\"-.-.\",\"-..\",\".\",\"..-.\",\"--.\",\"....\",\"..\",\".---\",\"-.-\",\".-..\",\"--\",\"-.\",\"---\",\".--.\",\"--.-\",\".-.\",\"...\",\"-\",\"..-\",\"...-\",\".--\",\"-..-\",\"-.--\",\"--..\"]\n",
    "answer = []\n",
    "--letter_indexes([\"gin\", \"zen\", \"gig\", \"msg\"])"
   ]
  },
  {
   "cell_type": "code",
   "execution_count": 175,
   "metadata": {
    "ExecuteTime": {
     "end_time": "2020-11-25T17:43:42.944703Z",
     "start_time": "2020-11-25T17:43:42.938760Z"
    }
   },
   "outputs": [
    {
     "name": "stdout",
     "output_type": "stream",
     "text": [
      "2\n"
     ]
    }
   ],
   "source": [
    "answer = []\n",
    "for word in [\"gin\", \"zen\", \"gig\", \"msg\"]:\n",
    "    if letter_indexes(word) not in answer:\n",
    "        answer.append(letter_indexes(word))\n",
    "\n",
    "print(len(answer))"
   ]
  },
  {
   "cell_type": "code",
   "execution_count": 180,
   "metadata": {
    "ExecuteTime": {
     "end_time": "2020-11-25T17:45:56.054217Z",
     "start_time": "2020-11-25T17:45:56.048718Z"
    }
   },
   "outputs": [],
   "source": [
    "def letter_indexes(text):\n",
    "    letter_mapping = dict(zip(ascii_lowercase, morse))\n",
    "    indexes = [\n",
    "      letter_mapping[letter] for word in text for letter in word \n",
    "      if letter in letter_mapping\n",
    "    ]\n",
    "\n",
    "    return ''.join(str(index) for index in indexes)"
   ]
  },
  {
   "cell_type": "code",
   "execution_count": 181,
   "metadata": {
    "ExecuteTime": {
     "end_time": "2020-11-25T17:45:57.804229Z",
     "start_time": "2020-11-25T17:45:57.797646Z"
    }
   },
   "outputs": [
    {
     "data": {
      "text/plain": [
       "'--...-.--...-.--...--.--...--.'"
      ]
     },
     "execution_count": 181,
     "metadata": {},
     "output_type": "execute_result"
    }
   ],
   "source": [
    "letter_indexes([\"gin\", \"zen\", \"gig\", \"msg\"])"
   ]
  },
  {
   "cell_type": "code",
   "execution_count": null,
   "metadata": {},
   "outputs": [],
   "source": []
  }
 ],
 "metadata": {
  "kernelspec": {
   "display_name": "Python 3",
   "language": "python",
   "name": "python3"
  },
  "language_info": {
   "codemirror_mode": {
    "name": "ipython",
    "version": 3
   },
   "file_extension": ".py",
   "mimetype": "text/x-python",
   "name": "python",
   "nbconvert_exporter": "python",
   "pygments_lexer": "ipython3",
   "version": "3.7.4"
  },
  "toc": {
   "base_numbering": 1,
   "nav_menu": {},
   "number_sections": true,
   "sideBar": true,
   "skip_h1_title": false,
   "title_cell": "Table of Contents",
   "title_sidebar": "Contents",
   "toc_cell": false,
   "toc_position": {},
   "toc_section_display": true,
   "toc_window_display": false
  }
 },
 "nbformat": 4,
 "nbformat_minor": 2
}
